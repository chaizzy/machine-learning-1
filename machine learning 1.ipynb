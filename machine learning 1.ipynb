{
 "cells": [
  {
   "cell_type": "code",
   "execution_count": 8,
   "id": "46f1f006-c5df-4aa4-ba36-9b3f70552484",
   "metadata": {},
   "outputs": [],
   "source": [
    "# ANS 1 :\n",
    "# \"Artificial intelligence\"\n",
    "# smart application that can perform its own task without any intervention\n",
    "# it involves developing algorithms and models that enable machines to learn from data, recognize patterns, make predictions, \n",
    "#  and improve their performance over time.\n",
    "# eg: self driving cars , robots , Alexa\n",
    "\n",
    "# \"Machine learning\"\n",
    "#  Machine learning is a subset of artificial intelligence (AI) that focuses on the development of algorithms and\n",
    "#  models that enable computers to learn and make predictions or decisions without being explicitly programmed\n",
    "#  it provides statstool to analyze , visualize predictive models , perform forecasting\n",
    "#  eg : recommendation system like movies in netflix\n",
    "\n",
    "# \"Deep learning\"\n",
    "#  mimics the human brain\n",
    "#  Deep learning is a subfield of machine learning that is inspired by the structure and function of the human brain's neural networks. \n",
    "#  It utilizes artificial neural networks with multiple layers (hence the term \"deep\") to process and analyze complex patterns and relationships in data.\n",
    "#  eg: object detection , image detection , chatbots "
   ]
  },
  {
   "cell_type": "code",
   "execution_count": 9,
   "id": "bbfef43b-b47a-421f-98d0-140cc6e7e923",
   "metadata": {},
   "outputs": [],
   "source": [
    "# ANS 2:\n",
    "# supervisied learning : In this we know input features and output feature\n",
    "# output feature of the dataset is known ( we know what to predict )\n",
    "# The algorithm's goal is to learn a mapping between the input data and the desired output based on the provided examples.\n",
    "\n",
    "# examples\n",
    "# classification : will student pass or fail based on their study hours and playing hours\n",
    "# regression : house prediction based on no. of rooms and location"
   ]
  },
  {
   "cell_type": "code",
   "execution_count": 10,
   "id": "0876f668-a23a-4a1a-b715-7ad7530eae5f",
   "metadata": {},
   "outputs": [],
   "source": [
    "# ANS 3:\n",
    "# \"unsupervised learning\"\n",
    "#  Unsupervised learning is a machine learning approach where the algorithm learns from unlabeled data without explicit output labels or target values. \n",
    "# In unsupervised learning, the goal is to discover hidden patterns, structures, or relationships within the data.\n",
    "# eg: In MALL if we know the customers expenditure and salary , we can target customers for selling products using clustering algorithm"
   ]
  },
  {
   "cell_type": "code",
   "execution_count": 11,
   "id": "efd70b57-b2fc-407f-94f1-7b6f43fd1898",
   "metadata": {},
   "outputs": [],
   "source": [
    "# ANS 4:\n",
    "# \"Artificial intelligence\"\n",
    "# smart application that can perform its own task without any intervention\n",
    "# it involves developing algorithms and models that enable machines to learn from data, recognize patterns, make predictions, \n",
    "#  and improve their performance over time.\n",
    "# eg: self driving cars , robots , Alexa\n",
    "\n",
    "# \"Machine learning\"\n",
    "#  Machine learning is a subset of artificial intelligence (AI) that focuses on the development of algorithms and\n",
    "#  models that enable computers to learn and make predictions or decisions without being explicitly programmed\n",
    "#  it provides statstool to analyze , visualize predictive models , perform forecasting\n",
    "#  eg : recommendation system like movies in netflix\n",
    "\n",
    "# \"Deep learning\"\n",
    "#  mimics the human brain\n",
    "#  Deep learning is a subfield of machine learning that is inspired by the structure and function of the human brain's neural networks. \n",
    "#  It utilizes artificial neural networks with multiple layers (hence the term \"deep\") to process and analyze complex patterns and relationships in data.\n",
    "#  eg: object detection , image detection , chatbots\n",
    "\n",
    "# data science\n",
    "# It is the intersection of all the domains \n",
    "# it the multidisicplinary field which uses statistics , computer vision , machine learning , deep learning algorithms to get insights of \n",
    "# data and knowlege from the data"
   ]
  },
  {
   "cell_type": "code",
   "execution_count": 12,
   "id": "947b419b-ee1b-46f4-b051-4e3f6760b4af",
   "metadata": {},
   "outputs": [],
   "source": [
    "# ANS 5 :\n",
    "# supervisied learning : In this we know input features and output feature\n",
    "# output feature of the dataset is known ( we know what to predict )\n",
    "# The algorithm's goal is to learn a mapping between the input data and the desired output based on the provided examples.\n",
    "\n",
    "# examples\n",
    "# classification : will student pass or fail based on their study hours and playing hours\n",
    "# regression : house prediction based on no. of rooms and location\n",
    "\n",
    "# \"unsupervised learning\"\n",
    "#  Unsupervised learning is a machine learning approach where the algorithm learns from unlabeled data without explicit output labels or target values. \n",
    "# In unsupervised learning, the goal is to discover hidden patterns, structures, or relationships within the data.\n",
    "# eg: In MALL if we know the customers expenditure and salary , we can target customers for selling products using clustering algorithm\n",
    "\n",
    "# semi supervised learning\n",
    "# Semi-supervised learning is a type of machine learning where a model learns from both labeled and unlabeled data. \n",
    "# In traditional supervised learning, a model is trained using labeled data, where each input sample is paired with the corresponding correct output.\n"
   ]
  },
  {
   "cell_type": "code",
   "execution_count": 13,
   "id": "b1e4d47c-8c43-42e2-a1c8-fd0352f130ac",
   "metadata": {},
   "outputs": [],
   "source": [
    "# ANS 6 :\n",
    "# when we have to build a prediction model using machine learning algorithm \n",
    "# we need a dataset \n",
    "# dataset goes through three phases:\n",
    "\n",
    "# Training dataset -- we have to train the dataset through our models \n",
    "\n",
    "# Validation dataset ---- hyper tuning of model\n",
    "#    in this by changing parametrs we increse the accuracy\n",
    "\n",
    "# Test dataset --- model is tested using test dataset\n",
    "#       test dataset is hidden\n",
    "\n",
    "# eg: Exams \n",
    "# Training dataset --- we train ourself using books\n",
    "# Validation dataset --- we train ourself using by extra books to improve the preparation\n",
    "# Test dataset -- Question Paper"
   ]
  },
  {
   "cell_type": "code",
   "execution_count": 14,
   "id": "648c8ef2-18c5-4ec4-bd14-f9f6ac43276e",
   "metadata": {},
   "outputs": [],
   "source": [
    "# ANS 7 :\n",
    "# Aomaly detection\n",
    "# Unsupervised learning techniques are commonly used in anomaly detection because they can learn patterns and \n",
    "# structures from unlabeled data without relying on explicit labels for normal and anomalous instances."
   ]
  },
  {
   "cell_type": "code",
   "execution_count": null,
   "id": "0abfa52a-27c7-4ac2-8a62-273dc92a14ee",
   "metadata": {},
   "outputs": [],
   "source": [
    "# ANS 8 :\n",
    "# Supervised Learning Algorithms:\n",
    "\n",
    "# Linear Regression\n",
    "# Logistic Regression\n",
    "# Decision Trees\n",
    "# Random Forests\n",
    "\n",
    "# Unsupervised Learning Algorithms:\n",
    "\n",
    "# K-Means Clustering\n",
    "# DBSCAN (Density-Based Spatial Clustering of Applications with Noise)\n",
    "# Hierarchical Clustering"
   ]
  }
 ],
 "metadata": {
  "kernelspec": {
   "display_name": "Python 3 (ipykernel)",
   "language": "python",
   "name": "python3"
  },
  "language_info": {
   "codemirror_mode": {
    "name": "ipython",
    "version": 3
   },
   "file_extension": ".py",
   "mimetype": "text/x-python",
   "name": "python",
   "nbconvert_exporter": "python",
   "pygments_lexer": "ipython3",
   "version": "3.10.8"
  }
 },
 "nbformat": 4,
 "nbformat_minor": 5
}
